{
  "nbformat": 4,
  "nbformat_minor": 0,
  "metadata": {
    "colab": {
      "name": "Test.ipynb",
      "provenance": [],
      "authorship_tag": "ABX9TyMVOauTsASsxUtIo/9FEO54",
      "include_colab_link": true
    },
    "kernelspec": {
      "name": "python3",
      "display_name": "Python 3"
    }
  },
  "cells": [
    {
      "cell_type": "markdown",
      "metadata": {
        "id": "view-in-github",
        "colab_type": "text"
      },
      "source": [
        "<a href=\"https://colab.research.google.com/github/jackphillips96/colab-test/blob/master/Test.ipynb\" target=\"_parent\"><img src=\"https://colab.research.google.com/assets/colab-badge.svg\" alt=\"Open In Colab\"/></a>"
      ]
    },
    {
      "cell_type": "code",
      "metadata": {
        "id": "LweoQm_cMLt5",
        "colab_type": "code",
        "colab": {}
      },
      "source": [
        "\n"
      ],
      "execution_count": 0,
      "outputs": []
    },
    {
      "cell_type": "markdown",
      "metadata": {
        "id": "G96dsEfHMNTB",
        "colab_type": "text"
      },
      "source": [
        "## CODE\n"
      ]
    },
    {
      "cell_type": "markdown",
      "metadata": {
        "id": "FTiifWLOMQjs",
        "colab_type": "text"
      },
      "source": [
        "#Comments"
      ]
    },
    {
      "cell_type": "markdown",
      "metadata": {
        "id": "AaiwpVRSMUaJ",
        "colab_type": "text"
      },
      "source": [
        ""
      ]
    },
    {
      "cell_type": "markdown",
      "metadata": {
        "id": "-8fZiW9ZMkbE",
        "colab_type": "text"
      },
      "source": [
        "##Test"
      ]
    },
    {
      "cell_type": "markdown",
      "metadata": {
        "id": "i46shV0hMlnA",
        "colab_type": "text"
      },
      "source": [
        ""
      ]
    }
  ]
}